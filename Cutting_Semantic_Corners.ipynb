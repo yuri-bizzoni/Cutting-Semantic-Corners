{
 "cells": [
  {
   "cell_type": "markdown",
   "metadata": {},
   "source": [
    "# Cutting Semantic Corners!"
   ]
  },
  {
   "cell_type": "markdown",
   "metadata": {},
   "source": [
    "This work interests various measures:\n",
    "- Average word frequency\n",
    "- Average word concreteness\n",
    "- Average word depth in WordNet"
   ]
  },
  {
   "cell_type": "code",
   "execution_count": 1,
   "metadata": {},
   "outputs": [],
   "source": [
    "import pandas as pd\n",
    "import numpy as np\n",
    "import matplotlib.pyplot as plt\n",
    "import math\n",
    "from scipy import stats\n",
    "from nltk.corpus import wordnet as wn"
   ]
  },
  {
   "cell_type": "code",
   "execution_count": 124,
   "metadata": {},
   "outputs": [],
   "source": [
    "#We already have a processed file\n",
    "address = \"/Users/yuribizzoni/Downloads/ttr__lexdens_nouns_PLM.xlsx\"\n",
    "ttr_file  = pd.read_excel(address)\n",
    "#ttr_file"
   ]
  },
  {
   "cell_type": "code",
   "execution_count": 125,
   "metadata": {},
   "outputs": [
    {
     "data": {
      "text/plain": [
       "2640"
      ]
     },
     "execution_count": 125,
     "metadata": {},
     "output_type": "execute_result"
    }
   ],
   "source": [
    "len(ttr_file[\"ORG_WR_EN_lem\"])"
   ]
  },
  {
   "cell_type": "code",
   "execution_count": 278,
   "metadata": {},
   "outputs": [],
   "source": [
    "#ttr_file"
   ]
  },
  {
   "cell_type": "code",
   "execution_count": 4,
   "metadata": {},
   "outputs": [],
   "source": [
    "#Concreteness - we use a dictionary\n",
    "eng_co = pd.read_excel(\"/Users/yuribizzoni/Downloads/Translation/B7/tools/Concreteness_ratings_Brysbaert_et_al_BRM.xlsx\")"
   ]
  },
  {
   "cell_type": "code",
   "execution_count": 129,
   "metadata": {},
   "outputs": [
    {
     "data": {
      "text/plain": [
       "['Word',\n",
       " 'Bigram',\n",
       " 'Conc.M',\n",
       " 'Conc.SD',\n",
       " 'Unknown',\n",
       " 'Total',\n",
       " 'Percent_known',\n",
       " 'SUBTLEX',\n",
       " 'Dom_Pos']"
      ]
     },
     "execution_count": 129,
     "metadata": {},
     "output_type": "execute_result"
    }
   ],
   "source": [
    "# column names\n",
    "list(eng_co)\n",
    "#eng_co"
   ]
  },
  {
   "cell_type": "code",
   "execution_count": 6,
   "metadata": {},
   "outputs": [
    {
     "data": {
      "text/plain": [
       "39954"
      ]
     },
     "execution_count": 6,
     "metadata": {},
     "output_type": "execute_result"
    }
   ],
   "source": [
    "#this dictionary contains almost 40000 different words\n",
    "len(eng_co[\"Word\"])"
   ]
  },
  {
   "cell_type": "code",
   "execution_count": null,
   "metadata": {},
   "outputs": [],
   "source": []
  },
  {
   "cell_type": "code",
   "execution_count": 131,
   "metadata": {},
   "outputs": [],
   "source": [
    "#We make it into a dictionary of concreteness scores\n",
    "subset = eng_co[['Word', 'Conc.M']]\n",
    "conc_values = dict(subset.get_values())"
   ]
  },
  {
   "cell_type": "code",
   "execution_count": 144,
   "metadata": {},
   "outputs": [
    {
     "name": "stdout",
     "output_type": "stream",
     "text": [
      "ORG_WR_EN\n",
      "2640\n",
      "Mean concreteness score:  3.1641766858337688 Std concreteness score:  0.9715712099137087\n",
      "\n",
      "\n",
      "TR_DE_EN\n",
      "2263\n",
      "Mean concreteness score:  3.1771540312876057 Std concreteness score:  0.9828211066405917\n",
      "\n",
      "\n",
      "ORG_SP_EN\n",
      "2292\n",
      "Mean concreteness score:  3.2083173076923073 Std concreteness score:  0.9722201150976274\n",
      "\n",
      "\n",
      "SI_DE_EN\n",
      "2179\n",
      "Mean concreteness score:  3.1879244031830236 Std concreteness score:  0.9754323000618517\n",
      "\n",
      "\n"
     ]
    }
   ],
   "source": [
    "## computing concreteness measures\n",
    "\n",
    "categories = \"ORG_WR_EN,TR_DE_EN,ORG_SP_EN,SI_DE_EN\".split(\",\")\n",
    "\n",
    "overlaps = []\n",
    "fr_subsets = []\n",
    "\n",
    "mean_concreteness_scores = []\n",
    "mean_concreteness_scores_frequency = []\n",
    "percen_very_concretes = []\n",
    "percen_very_abstracts = []\n",
    "con_fre_sco = []\n",
    "\n",
    "c=0\n",
    "\n",
    "for category in categories:\n",
    "    print(category)\n",
    "    subset_fr = ttr_file[[category+\"_lem\", \"Anzahl_\"+str(c)]]\n",
    "    c+=1\n",
    "    fr_values = dict(subset_fr.get_values())\n",
    "    print(len(fr_values.keys()))\n",
    "    fr_subsets.append((category,fr_values))\n",
    "    \n",
    "    prv, cons, fres = [],[], []\n",
    "    very_con, very_abs = [],[]\n",
    "    \n",
    "    for w in fr_values.keys():\n",
    "        if w in conc_values.keys():\n",
    "            conc_score = conc_values[w]\n",
    "            fre = fr_values[w]\n",
    "            \n",
    "            if fre>-1:\n",
    "                # we add a word's conc. score proportionally to the number of times it occurs in the corpus\n",
    "                # this allows us to perform a real t-test later on \n",
    "                prv+=[conc_score]*int(fre) \n",
    "                \n",
    "                cons.append(conc_score)\n",
    "                fres.append(fre)\n",
    "            if conc_score>4: very_con.append(conc_score) # very concrete set (concreteness>4)\n",
    "            if conc_score<2: very_abs.append(conc_score) # very abstract set (concreteness<2)\n",
    "                \n",
    "    print(\"Mean concreteness score: \",np.mean(cons), \"Std concreteness score: \",np.std(cons))\n",
    "    n_words = len(fr_values.keys())\n",
    "    mean_concreteness_scores_frequency.append(np.mean(prv))\n",
    "    mean_concreteness_scores.append(np.mean(cons))\n",
    "    percen_very_concretes.append(len(very_con)/n_words)\n",
    "    percen_very_abstracts.append(len(very_abs)/n_words)\n",
    "    con_fre_sco.append(prv)\n",
    "    print(\"\\n\")"
   ]
  },
  {
   "cell_type": "code",
   "execution_count": 139,
   "metadata": {},
   "outputs": [
    {
     "name": "stdout",
     "output_type": "stream",
     "text": [
      "ORG_WR_EN\n",
      "Percentage very abstract words: 0.08446969696969697\n",
      "Percentage very concrete words: 0.16780303030303031\n",
      "Mean type concreteness score: 3.1641766858337688\n",
      "Mean token concreteness score: 3.1641766858337688\n",
      "\n",
      "\n",
      "TR_DE_EN\n",
      "Percentage very abstract words: 0.09147149801148917\n",
      "Percentage very concrete words: 0.17454706142288998\n",
      "Mean type concreteness score: 3.1771540312876057\n",
      "Mean token concreteness score: 3.1771540312876057\n",
      "\n",
      "\n",
      "ORG_SP_EN\n",
      "Percentage very abstract words: 0.08464223385689354\n",
      "Percentage very concrete words: 0.17713787085514834\n",
      "Mean type concreteness score: 3.2083173076923073\n",
      "Mean token concreteness score: 3.2083173076923073\n",
      "\n",
      "\n",
      "SI_DE_EN\n",
      "Percentage very abstract words: 0.08031206975676916\n",
      "Percentage very concrete words: 0.1661312528682882\n",
      "Mean type concreteness score: 3.1879244031830236\n",
      "Mean token concreteness score: 3.1879244031830236\n",
      "\n",
      "\n"
     ]
    }
   ],
   "source": [
    "for i in range(4):\n",
    "    print(categories[i])\n",
    "    print(\"Percentage very abstract words: \"+str(percen_very_abstracts[i]))\n",
    "    print(\"Percentage very concrete words: \"+str(percen_very_concretes[i]))\n",
    "    print(\"Mean type concreteness score: \"+str(mean_concreteness_scores[i]))\n",
    "    print(\"Mean token concreteness score: \"+str(mean_concreteness_scores_frequency[i]))\n",
    "    print(\"\\n\")"
   ]
  },
  {
   "cell_type": "code",
   "execution_count": 140,
   "metadata": {},
   "outputs": [
    {
     "data": {
      "image/png": "[encoded data removed]",
      "text/plain": [
       "<Figure size 1440x720 with 1 Axes>"
      ]
     },
     "metadata": {
      "needs_background": "light"
     },
     "output_type": "display_data"
    }
   ],
   "source": [
    "\n",
    "plt.figure(figsize=(20,10))\n",
    "\n",
    "N = 4\n",
    "OVERALL_BAR_WIDTH = .35\n",
    "SENTIMENT_Y_LABEL2 = 'Percent'\n",
    "SENTIMENT_TITLE2 = 'Category and concreteness'\n",
    "\n",
    "abstra = [x for x in percen_very_abstracts]\n",
    "concre = [x for x in percen_very_concretes]\n",
    "\n",
    "labs = categories \n",
    "ind = np.arange(N)\n",
    "width = OVERALL_BAR_WIDTH\n",
    "#p2 = plt.bar(ind, neu, width)\n",
    "p3 = plt.bar(ind, concre, width, bottom=0)\n",
    "p1 = plt.bar(ind, abstra, width, bottom=concre)\n",
    "\n",
    "plt.ylabel(SENTIMENT_Y_LABEL2)\n",
    "plt.title(SENTIMENT_TITLE2)\n",
    "plt.xticks(ind, labs, rotation='vertical')\n",
    "#plt.legend((p1[0], p2[0], p3[0]), ('Negative', 'Neutral', 'Positive'))\n",
    "plt.legend((p1[0], p3[0]), ('Very abstract (>4/5)', 'Very concrete (<2/5)'))\n",
    "#plt.savefig(\"/Users/yuribizzoni/abstract_concrete_difference.png\")\n",
    "plt.show()"
   ]
  },
  {
   "cell_type": "code",
   "execution_count": 141,
   "metadata": {},
   "outputs": [
    {
     "data": {
      "image/png": "[encoded data removed]",
      "text/plain": [
       "<Figure size 1080x576 with 1 Axes>"
      ]
     },
     "metadata": {
      "needs_background": "light"
     },
     "output_type": "display_data"
    }
   ],
   "source": [
    "N = len(mean_concreteness_scores_frequency)\n",
    "\n",
    "SENTIMENT_Y_LABEL2 = \"Concreteness > 3.1\"\n",
    "SENTIMENT_TITLE2 = 'Mean concreteness, frequency biased'\n",
    "\n",
    "plt.figure(figsize=(15,8))\n",
    "\n",
    "plt.bar(np.arange(N), [x-3.1 for x in mean_concreteness_scores_frequency])\n",
    "plt.ylabel(SENTIMENT_Y_LABEL2)\n",
    "plt.title(SENTIMENT_TITLE2)\n",
    "plt.xticks(ind, labs, rotation='vertical')\n",
    "#plt.yticks(ticks=[.3,.35,.4])\n",
    "#plt.savefig(\"/Users/yuribizzoni/mean_concreteness_freqbiased.png\")\n",
    "plt.show()"
   ]
  },
  {
   "cell_type": "code",
   "execution_count": 142,
   "metadata": {},
   "outputs": [],
   "source": [
    "#Differences are small. Are they statistically significant?"
   ]
  },
  {
   "cell_type": "code",
   "execution_count": 145,
   "metadata": {},
   "outputs": [
    {
     "name": "stdout",
     "output_type": "stream",
     "text": [
      "Ttest_indResult(statistic=2.5858934323954887, pvalue=0.00971867236290266)\n",
      "Ttest_indResult(statistic=-5.40086512567981, pvalue=6.701535161472225e-08)\n",
      "Ttest_indResult(statistic=-1.8576631458426693, pvalue=0.06323049268285551)\n",
      "Ttest_indResult(statistic=-2.5858934323954887, pvalue=0.00971867236290266)\n",
      "Ttest_indResult(statistic=-7.873795064855583, pvalue=3.602587761676999e-15)\n",
      "Ttest_indResult(statistic=-4.317246355925874, pvalue=1.5870165463073763e-05)\n",
      "Ttest_indResult(statistic=5.40086512567981, pvalue=6.701535161472225e-08)\n",
      "Ttest_indResult(statistic=7.873795064855583, pvalue=3.602587761676999e-15)\n",
      "Ttest_indResult(statistic=3.3747578039349344, pvalue=0.0007402382795128507)\n",
      "Ttest_indResult(statistic=1.8576631458426693, pvalue=0.06323049268285551)\n",
      "Ttest_indResult(statistic=4.317246355925874, pvalue=1.5870165463073763e-05)\n",
      "Ttest_indResult(statistic=-3.3747578039349344, pvalue=0.0007402382795128507)\n"
     ]
    }
   ],
   "source": [
    "#T test comparing each concreteness distribution with each other\n",
    "#(p<.05 means statistically significant)\n",
    "\n",
    "# con_fre_sco: concreteness frequency scores for each word in a category\n",
    "\n",
    "for array in con_fre_sco:\n",
    "    for other_array in con_fre_sco:\n",
    "        if array != other_array:\n",
    "            print(stats.ttest_ind(array, other_array))"
   ]
  },
  {
   "cell_type": "code",
   "execution_count": 16,
   "metadata": {},
   "outputs": [],
   "source": [
    "#subset_fr"
   ]
  },
  {
   "cell_type": "code",
   "execution_count": 17,
   "metadata": {},
   "outputs": [],
   "source": [
    "#Other analyses\n",
    "#subset_fr"
   ]
  },
  {
   "cell_type": "code",
   "execution_count": 186,
   "metadata": {},
   "outputs": [
    {
     "name": "stdout",
     "output_type": "stream",
     "text": [
      "ORG_WR_EN\n",
      "mean frequency 0.03788956190648574\n",
      "percentage low frequency words:  0.8443181818181819\n",
      "percentage high frequency words:  0.0026515151515151517\n",
      "High to low frequency words ratio:  0.0031404217137729925\n",
      "\n",
      "\n",
      "TR_DE_EN\n",
      "mean frequency 0.04420866489832008\n",
      "percentage low frequency words:  0.8099027409372237\n",
      "percentage high frequency words:  0.0035366931918656055\n",
      "High to low frequency words ratio:  0.004366812227074236\n",
      "\n",
      "\n",
      "ORG_SP_EN\n",
      "mean frequency 0.043753125532966605\n",
      "percentage low frequency words:  0.8197293758184199\n",
      "percentage high frequency words:  0.004801396769969445\n",
      "High to low frequency words ratio:  0.005857294994675187\n",
      "\n",
      "\n",
      "SI_DE_EN\n",
      "mean frequency 0.045913682277318645\n",
      "percentage low frequency words:  0.8099173553719008\n",
      "percentage high frequency words:  0.0036730945821854912\n",
      "High to low frequency words ratio:  0.0045351473922902496\n",
      "\n",
      "\n"
     ]
    }
   ],
   "source": [
    "#High frequency vs low frequency words\n",
    "\n",
    "hig_perces, low_perces = [],[]\n",
    "hig_low_ratio = []\n",
    "\n",
    "for category in categories:\n",
    "    \n",
    "    print(category)\n",
    "    subset_fr = ttr_file[[category+\"_lem\", category+\"_fre\"]]\n",
    "    fr_values = dict(subset_fr.get_values())\n",
    "    high_counts = [v for v in fr_values.values() if v>=.85] # \n",
    "    all_counts = [v for v in fr_values.values() if v>-1]\n",
    "    \n",
    "    print(\"mean frequency\", np.mean(all_counts))\n",
    "    low_counts = [v for v in fr_values.values() if v<0.05] # \n",
    "    hig_per = len(high_counts)/len(all_counts)\n",
    "    low_per =  len(low_counts)/len(all_counts)\n",
    "    \n",
    "    print(\"percentage low frequency words: \", low_per)\n",
    "    \n",
    "    print(\"percentage high frequency words: \", hig_per)\n",
    "    hig_perces.append(hig_per)\n",
    "    low_perces.append(low_per)\n",
    "    high_low_r = len(high_counts)/len(low_counts)\n",
    "    \n",
    "    print(\"High to low frequency words ratio: \", high_low_r)\n",
    "    hig_low_ratio.append(high_low_r)\n",
    "    \n",
    "    print(\"\\n\")"
   ]
  },
  {
   "cell_type": "code",
   "execution_count": 187,
   "metadata": {},
   "outputs": [
    {
     "data": {
      "image/png": "[encoded data removed]",
      "text/plain": [
       "<Figure size 432x288 with 1 Axes>"
      ]
     },
     "metadata": {
      "needs_background": "light"
     },
     "output_type": "display_data"
    }
   ],
   "source": [
    "SENTIMENT_Y_LABEL2 = \"Ratio\"\n",
    "SENTIMENT_TITLE2 = 'High/Low frequency words ratio'\n",
    "\n",
    "plt.bar(np.arange(N), [x for x in hig_low_ratio])\n",
    "plt.ylabel(SENTIMENT_Y_LABEL2)\n",
    "plt.title(SENTIMENT_TITLE2)\n",
    "plt.xticks(ind, labs, rotation='vertical')\n",
    "#plt.savefig(\"/Users/yuribizzoni/frequency_ratio\")\n",
    "\n",
    "plt.show()"
   ]
  },
  {
   "cell_type": "code",
   "execution_count": 273,
   "metadata": {},
   "outputs": [
    {
     "name": "stdout",
     "output_type": "stream",
     "text": [
      "done\n"
     ]
    }
   ],
   "source": [
    "#WordNet\n",
    "\n",
    "\n",
    "depth_of_frequents = []\n",
    "depth_of_rares = []\n",
    "avg_depth = []\n",
    "\n",
    "depths_arrays = []\n",
    "\n",
    "\n",
    "#extra = open(\"/Users/yuribizzoni/Downloads/B7/WN_depth_English.csv\",\"w\")\n",
    "\n",
    "#extra.write(\"CORPUS\\tWN_DEPTH\\tWN_DEPTH_calibrated\\tFREQUENCY\\n\")\n",
    "c=0\n",
    "for category in categories:\n",
    "    \n",
    "    subset_fr = ttr_file[[category+\"_lem\", category+\"_fre\"]]\n",
    "    c+=1\n",
    "    fr_values = dict(subset_fr.get_values())\n",
    "    fr_subsets.append((category,fr_values))\n",
    "    prv, frequents, rares = [],[],[]\n",
    "    \n",
    "    for w in fr_values.keys():\n",
    "        w = str(w)\n",
    "        syn = wn.synsets(w) # we take all synsets containing that word\n",
    "        if len(syn)>0 and w!='nan':\n",
    "            fre = fr_values[w] # frequency of the word\n",
    "            # we take the mean depth of the synsets containing the word\n",
    "            dep_ca = np.mean([s.max_depth() for s in syn][-1]) \n",
    "            tot = dep_ca \n",
    "            if fre>-1:\n",
    "                # as before, we add a proportial number of scores\n",
    "                # in order to compute a t-test later\n",
    "                prv+=[tot]*int(fre*100) ###WE ARE USING MPF FREQ, so it is necessary to *100 or more\n",
    "            if fre>=1:\n",
    "                frequents+=[tot]*int(fre*100)\n",
    "            if fre<.1:\n",
    "                rares+=[tot]*int(fre*100)\n",
    "    depths_arrays.append(frequents)\n",
    "    avg_depth.append(np.mean(prv))\n",
    "    depth_of_frequents.append(np.mean(frequents))\n",
    "    depth_of_rares.append(np.mean(rares))\n",
    "\n",
    "print(\"done\")"
   ]
  },
  {
   "cell_type": "code",
   "execution_count": 274,
   "metadata": {},
   "outputs": [
    {
     "data": {
      "text/plain": [
       "12"
      ]
     },
     "execution_count": 274,
     "metadata": {},
     "output_type": "execute_result"
    }
   ],
   "source": [
    "syn[0].max_depth()"
   ]
  },
  {
   "cell_type": "code",
   "execution_count": 275,
   "metadata": {},
   "outputs": [
    {
     "data": {
      "text/plain": [
       "[6.156424581005586, 5.780263157894737, 6.208917197452229, 4.965217391304348]"
      ]
     },
     "execution_count": 275,
     "metadata": {},
     "output_type": "execute_result"
    }
   ],
   "source": [
    "depth_of_frequents"
   ]
  },
  {
   "cell_type": "code",
   "execution_count": 276,
   "metadata": {},
   "outputs": [
    {
     "data": {
      "text/plain": [
       "[5.081124241456403, 5.164818920916482, 4.752792256142963, 5.028368794326241]"
      ]
     },
     "execution_count": 276,
     "metadata": {},
     "output_type": "execute_result"
    }
   ],
   "source": [
    "depth_of_rares"
   ]
  },
  {
   "cell_type": "code",
   "execution_count": null,
   "metadata": {},
   "outputs": [],
   "source": []
  },
  {
   "cell_type": "code",
   "execution_count": 209,
   "metadata": {},
   "outputs": [
    {
     "data": {
      "image/png": "[encoded data removed]",
      "text/plain": [
       "<Figure size 432x288 with 1 Axes>"
      ]
     },
     "metadata": {
      "needs_background": "light"
     },
     "output_type": "display_data"
    }
   ],
   "source": [
    "SENTIMENT_Y_LABEL2 = \"Mean depth (-5.5)\"\n",
    "SENTIMENT_TITLE2 = 'Depth of frequent words'\n",
    "\n",
    "plt.bar(np.arange(N), [(x-5.5) for x in depth_of_frequents])\n",
    "plt.ylabel(SENTIMENT_Y_LABEL2)\n",
    "plt.title(SENTIMENT_TITLE2)\n",
    "plt.xticks(ind, labs, rotation='vertical')\n",
    "\n",
    "#plt.savefig(\"/Users/yuribizzoni/depfreq.png\", bbox_inches=\"tight\")\n",
    "\n",
    "plt.show()"
   ]
  },
  {
   "cell_type": "code",
   "execution_count": 210,
   "metadata": {},
   "outputs": [
    {
     "data": {
      "image/png": "[encoded data removed]",
      "text/plain": [
       "<Figure size 432x288 with 1 Axes>"
      ]
     },
     "metadata": {
      "needs_background": "light"
     },
     "output_type": "display_data"
    }
   ],
   "source": [
    "SENTIMENT_Y_LABEL2 = \"Mean depth (-5.5)\"\n",
    "SENTIMENT_TITLE2 = 'Depth of rare words'\n",
    "\n",
    "plt.bar(np.arange(N), [x-5.5 for x in depth_of_rares])\n",
    "plt.ylabel(SENTIMENT_Y_LABEL2)\n",
    "plt.title(SENTIMENT_TITLE2)\n",
    "plt.xticks(ind, labs, rotation='vertical')\n",
    "\n",
    "#plt.savefig(\"/Users/yuribizzoni/deprare.png\", bbox_inches=\"tight\")\n",
    "\n",
    "plt.show()"
   ]
  },
  {
   "cell_type": "code",
   "execution_count": 201,
   "metadata": {},
   "outputs": [
    {
     "data": {
      "image/png": "[encoded data removed]",
      "text/plain": [
       "<Figure size 432x288 with 1 Axes>"
      ]
     },
     "metadata": {
      "needs_background": "light"
     },
     "output_type": "display_data"
    }
   ],
   "source": [
    "SENTIMENT_Y_LABEL2 = \"Mean depth (-5.5)\"\n",
    "SENTIMENT_TITLE2 = 'Depth of words'\n",
    "\n",
    "plt.bar(np.arange(N), [x-5 for x in avg_depth])\n",
    "plt.ylabel(SENTIMENT_Y_LABEL2)\n",
    "plt.title(SENTIMENT_TITLE2)\n",
    "plt.xticks(ind, labs, rotation='vertical')\n",
    "plt.show()"
   ]
  },
  {
   "cell_type": "code",
   "execution_count": 183,
   "metadata": {},
   "outputs": [
    {
     "data": {
      "text/plain": [
       "[1]"
      ]
     },
     "execution_count": 183,
     "metadata": {},
     "output_type": "execute_result"
    }
   ],
   "source": [
    "[1]"
   ]
  },
  {
   "cell_type": "code",
   "execution_count": 184,
   "metadata": {},
   "outputs": [
    {
     "name": "stdout",
     "output_type": "stream",
     "text": [
      "ORG_WR_EN -> TR_DE_EN Ttest_indResult(statistic=0.6170087588775385, pvalue=0.537309673854139)\n",
      "ORG_WR_EN -> ORG_SP_EN Ttest_indResult(statistic=3.0923567764303495, pvalue=0.0020124753820480587)\n",
      "<<< Significant\n",
      "\n",
      "ORG_WR_EN -> SI_DE_EN Ttest_indResult(statistic=4.309264201788192, pvalue=1.728453366777586e-05)\n",
      "<<< Significant\n",
      "\n",
      "TR_DE_EN -> ORG_WR_EN Ttest_indResult(statistic=-0.6170087588775385, pvalue=0.537309673854139)\n",
      "TR_DE_EN -> ORG_SP_EN Ttest_indResult(statistic=2.1240650463060127, pvalue=0.03377746071300634)\n",
      "<<< Significant\n",
      "\n",
      "TR_DE_EN -> SI_DE_EN Ttest_indResult(statistic=3.4576196104220207, pvalue=0.0005570956906984508)\n",
      "<<< Significant\n",
      "\n",
      "ORG_SP_EN -> ORG_WR_EN Ttest_indResult(statistic=-3.0923567764303495, pvalue=0.0020124753820480587)\n",
      "<<< Significant\n",
      "\n",
      "ORG_SP_EN -> TR_DE_EN Ttest_indResult(statistic=-2.1240650463060127, pvalue=0.03377746071300634)\n",
      "<<< Significant\n",
      "\n",
      "ORG_SP_EN -> SI_DE_EN Ttest_indResult(statistic=2.086194654090014, pvalue=0.03707633853479759)\n",
      "<<< Significant\n",
      "\n",
      "SI_DE_EN -> ORG_WR_EN Ttest_indResult(statistic=-4.309264201788192, pvalue=1.728453366777586e-05)\n",
      "<<< Significant\n",
      "\n",
      "SI_DE_EN -> TR_DE_EN Ttest_indResult(statistic=-3.4576196104220207, pvalue=0.0005570956906984508)\n",
      "<<< Significant\n",
      "\n",
      "SI_DE_EN -> ORG_SP_EN Ttest_indResult(statistic=-2.086194654090014, pvalue=0.03707633853479759)\n",
      "<<< Significant\n",
      "\n"
     ]
    }
   ],
   "source": [
    "##t test. This time, some contrasts are significant, others are not. \n",
    "# Some are close to the threshold (e.g. .08), others are far away.\n",
    "\n",
    "for i in range(len(depths_arrays)):\n",
    "    array = depths_arrays[i]\n",
    "    for j in range(len(depths_arrays)):\n",
    "        other_array = depths_arrays[j]\n",
    "        if array != other_array:\n",
    "            ttest = stats.ttest_ind(array, other_array)\n",
    "            print(labs[i], '->', labs[j], ttest)\n",
    "            if ttest[1]<.05: print(\"<<< Significant\\n\")"
   ]
  },
  {
   "cell_type": "code",
   "execution_count": null,
   "metadata": {},
   "outputs": [],
   "source": []
  },
  {
   "cell_type": "code",
   "execution_count": 185,
   "metadata": {},
   "outputs": [
    {
     "data": {
      "image/png": "[encoded data removed]",
      "text/plain": [
       "<Figure size 1440x720 with 1 Axes>"
      ]
     },
     "metadata": {
      "needs_background": "light"
     },
     "output_type": "display_data"
    }
   ],
   "source": [
    "plt.figure(figsize=(20,10))\n",
    "\n",
    "OVERALL_BAR_WIDTH = .35\n",
    "SENTIMENT_Y_LABEL2 = 'Avg Depth'\n",
    "SENTIMENT_TITLE2 = 'Category and WN depth'\n",
    "\n",
    "N = len(depth_of_frequents)\n",
    "avg = [x for x in avg_depth]\n",
    "freq = [x for x in depth_of_frequents]\n",
    "rare = [x for x in depth_of_rares]\n",
    "labs = categories #sorted([x[0] for x in sent])\n",
    "ind = np.arange(N)\n",
    "width = OVERALL_BAR_WIDTH\n",
    "\n",
    "p3 = plt.bar(ind, freq, width, bottom=rare)\n",
    "p1 = plt.bar(ind, rare, width, bottom=avg)\n",
    "p2 = plt.bar(ind, avg, width, bottom=0)\n",
    "\n",
    "\n",
    "plt.ylabel(SENTIMENT_Y_LABEL2)\n",
    "plt.title(SENTIMENT_TITLE2)\n",
    "plt.xticks(ind, labs, rotation='vertical')\n",
    "plt.legend((p1[0], p2[0], p3[0]), ('Rare', 'Average', 'Frequent'))\n",
    "#plt.legend((p1[0], p3[0]), ('Very frequent (>.9)', 'Average'))\n",
    "#plt.savefig(\"/Users/yuribizzoni/generality_per_frequency_class.png\")\n",
    "plt.show()"
   ]
  },
  {
   "cell_type": "code",
   "execution_count": 198,
   "metadata": {},
   "outputs": [
    {
     "data": {
      "text/plain": [
       "[6.714, 6.649, 6.45, 6.251]"
      ]
     },
     "execution_count": 198,
     "metadata": {},
     "output_type": "execute_result"
    }
   ],
   "source": [
    "[round(x,3) for x in freq]"
   ]
  },
  {
   "cell_type": "code",
   "execution_count": 288,
   "metadata": {},
   "outputs": [],
   "source": [
    "hap=wn.synsets('happiness')[1]#.hyponyms()[0]"
   ]
  },
  {
   "cell_type": "code",
   "execution_count": 289,
   "metadata": {},
   "outputs": [
    {
     "data": {
      "text/plain": [
       "[Synset('belonging.n.01'),\n",
       " Synset('bonheur.n.01'),\n",
       " Synset('cheerfulness.n.02'),\n",
       " Synset('contentment.n.01'),\n",
       " Synset('gaiety.n.01'),\n",
       " Synset('gladness.n.01'),\n",
       " Synset('rejoicing.n.01')]"
      ]
     },
     "execution_count": 289,
     "metadata": {},
     "output_type": "execute_result"
    }
   ],
   "source": [
    "hap.hyponyms()"
   ]
  },
  {
   "cell_type": "code",
   "execution_count": 290,
   "metadata": {},
   "outputs": [
    {
     "data": {
      "text/plain": [
       "[Synset('satisfaction.n.01')]"
      ]
     },
     "execution_count": 290,
     "metadata": {},
     "output_type": "execute_result"
    }
   ],
   "source": [
    "hap.hyponyms()[3].hyponyms()"
   ]
  },
  {
   "cell_type": "code",
   "execution_count": 294,
   "metadata": {},
   "outputs": [
    {
     "data": {
      "text/plain": [
       "[]"
      ]
     },
     "execution_count": 294,
     "metadata": {},
     "output_type": "execute_result"
    }
   ],
   "source": [
    "hap.hyponyms()[3].hyponyms()[0].hyponyms()[0].hyponyms()[0].hyponyms()"
   ]
  },
  {
   "cell_type": "code",
   "execution_count": null,
   "metadata": {},
   "outputs": [],
   "source": []
  }
 ],
 "metadata": {
  "kernelspec": {
   "display_name": "Python 3",
   "language": "python",
   "name": "python3"
  },
  "language_info": {
   "codemirror_mode": {
    "name": "ipython",
    "version": 3
   },
   "file_extension": ".py",
   "mimetype": "text/x-python",
   "name": "python",
   "nbconvert_exporter": "python",
   "pygments_lexer": "ipython3",
   "version": "3.6.8"
  }
 },
 "nbformat": 4,
 "nbformat_minor": 4
}
